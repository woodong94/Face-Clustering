{
 "cells": [
  {
   "cell_type": "markdown",
   "metadata": {},
   "source": [
    "Reference)\n",
    "\n",
    "https://github.com/ageitgey/face_recognition\n",
    "\n",
    "https://www.pyimagesearch.com/2018/07/09/face-clustering-with-python/"
   ]
  },
  {
   "cell_type": "code",
   "execution_count": 1,
   "metadata": {
    "ExecuteTime": {
     "end_time": "2019-09-03T08:56:23.791320Z",
     "start_time": "2019-09-03T08:56:21.940460Z"
    }
   },
   "outputs": [],
   "source": [
    "# import the necessary packages\n",
    "import face_recognition # by Adam Geitgey, a PyImageConf2018 speaker\n",
    "import pickle\n",
    "import cv2\n",
    "import os\n",
    "\n",
    "from itertools import chain \n",
    "from PIL import Image\n",
    "\n",
    "import numpy as np"
   ]
  },
  {
   "cell_type": "markdown",
   "metadata": {},
   "source": [
    "# Face Encoding"
   ]
  },
  {
   "cell_type": "code",
   "execution_count": 2,
   "metadata": {
    "ExecuteTime": {
     "end_time": "2019-09-03T08:56:38.600315Z",
     "start_time": "2019-09-03T08:56:38.591139Z"
    }
   },
   "outputs": [
    {
     "name": "stdout",
     "output_type": "stream",
     "text": [
      "[INFO] quantifying faces...\n",
      "# of files:  79\n"
     ]
    }
   ],
   "source": [
    "def load_directory_data(pwd):\n",
    "\n",
    "    file_path_list = []\n",
    "    \n",
    "    # 디렉토리, 디렉토리 내 폴더 리스트, 파일 리스트\n",
    "    for path,dirs,files in os.walk(pwd):\n",
    "        \n",
    "        for f in files:           \n",
    "            file_path = path + '/' +f\n",
    "            file_path_list.append(file_path)             \n",
    "    \n",
    "    print(\"# of files: \",len(file_path_list))\n",
    "    \n",
    "    return file_path_list\n",
    "\n",
    "# input 이미지들의 path 따오는 코드. 이미지의 절대 경로를 반환.\n",
    "print(\"[INFO] quantifying faces...\")\n",
    "imagePaths = load_directory_data('Sample Data Collection From MELD/SampleFaces')"
   ]
  },
  {
   "cell_type": "code",
   "execution_count": 3,
   "metadata": {
    "ExecuteTime": {
     "end_time": "2019-09-03T08:10:27.356987Z",
     "start_time": "2019-09-03T08:10:25.413648Z"
    },
    "scrolled": true
   },
   "outputs": [
    {
     "name": "stdout",
     "output_type": "stream",
     "text": [
      "79NFO] processing image 79/79\n"
     ]
    }
   ],
   "source": [
    "# loop over the image paths\n",
    "data = []\n",
    "\n",
    "for (i, imagePath) in enumerate(imagePaths):\n",
    "    # load the input image and convert it from BGR (OpenCV ordering) to dlib ordering (RGB) \n",
    "    print(\"[INFO] processing image {}/{}\".format(i + 1,len(imagePaths)), end = '\\r') # 작업량 카운트\n",
    "    image = cv2.imread(imagePath)\n",
    "    rgb_img = cv2.cvtColor(image, cv2.COLOR_BGR2RGB) # OpenCV’s default BGR to RGB, dlib가 rgb만 받음.\n",
    "   \n",
    "    # 본 코드에서는 기본 이미지 크기를 임의로 box 를 만들었는데, input 이미지가 이미 얼굴만 잘린 이미지이기 때문.\n",
    "    boxes = [(0,image.shape[0],image.shape[1],0)] # 인물의 얼굴을 좌표로 반환. (top, right, bottom, left)\n",
    "#    boxes = face_recognition.face_locations(rgb,model=\"detection_method\") \n",
    "\n",
    "    # Given an image, return the 128-dimension face encoding for each face in the image.\n",
    "    # num_jitters=100 - randomly distort your image 100 times (randomly zoomed, rotated, translated, flipped)\n",
    "    encodings = face_recognition.face_encodings(rgb_img, boxes)\n",
    "\n",
    "    # build a dictionary of the image path, bounding box location, and facial encodings for the current image\n",
    "    d = {\"imagePath\": imagePath, \"loc\": boxes, \"encoding\": encodings}\n",
    "    data.append(d)\n",
    "\n",
    "#    한 이미지에 여러 얼굴 잡힐 경우\n",
    "#    d = [{\"imagePath\": imagePath, \"loc\": box, \"encoding\": enc} for (box, enc) in zip(boxes, encodings)]\n",
    "#    data.extend(d)\n",
    "\n",
    "print(len(data))"
   ]
  },
  {
   "cell_type": "markdown",
   "metadata": {
    "ExecuteTime": {
     "end_time": "2019-09-03T06:38:03.492607Z",
     "start_time": "2019-09-03T06:38:03.489833Z"
    }
   },
   "source": [
    "Boxes가 없는 경우 encoding 오류 날 때 있다. 원래 Face 얼굴대로 Crop된 이미지들 이므로 box의 크기를 이미지 사이즈 그대로 설정하였다."
   ]
  },
  {
   "cell_type": "code",
   "execution_count": 4,
   "metadata": {
    "ExecuteTime": {
     "end_time": "2019-09-03T08:10:27.375646Z",
     "start_time": "2019-09-03T08:10:27.361855Z"
    }
   },
   "outputs": [],
   "source": [
    "import pickle\n",
    "\n",
    "# save\n",
    "with open('face_encoding.pickle', 'wb') as f:\n",
    "    pickle.dump(data, f, pickle.HIGHEST_PROTOCOL)"
   ]
  },
  {
   "cell_type": "markdown",
   "metadata": {
    "ExecuteTime": {
     "end_time": "2019-09-03T05:54:49.050912Z",
     "start_time": "2019-09-03T05:54:49.043631Z"
    }
   },
   "source": [
    "For each of the detected faces + encodings, we build a dictionary that includes:\n",
    "\n",
    "1. The path to the input image\n",
    "2. The location of the face in the image (i.e., the bounding box)\n",
    "3. The 128-d encoding itself"
   ]
  },
  {
   "cell_type": "markdown",
   "metadata": {
    "ExecuteTime": {
     "end_time": "2019-09-03T06:21:47.121544Z",
     "start_time": "2019-09-03T06:21:47.115573Z"
    }
   },
   "source": [
    "# Face Clustering "
   ]
  },
  {
   "cell_type": "code",
   "execution_count": 5,
   "metadata": {
    "ExecuteTime": {
     "end_time": "2019-09-03T08:10:27.956415Z",
     "start_time": "2019-09-03T08:10:27.383631Z"
    }
   },
   "outputs": [],
   "source": [
    "# import the necessary packages\n",
    "from sklearn.cluster import DBSCAN\n",
    "import numpy as np\n",
    "import pickle\n",
    "import cv2"
   ]
  },
  {
   "cell_type": "code",
   "execution_count": 6,
   "metadata": {
    "ExecuteTime": {
     "end_time": "2019-09-03T08:10:27.963008Z",
     "start_time": "2019-09-03T08:10:27.958189Z"
    },
    "scrolled": true
   },
   "outputs": [],
   "source": [
    "# load the serialized face encodings + bounding box locations from disk, \n",
    "# then extract the set of encodings to so we can cluster on them\n",
    "\n",
    "# load\n",
    "with open('face_encoding.pickle', 'rb') as f:\n",
    "    data = pickle.load(f)\n",
    "\n",
    "encodings = [d[\"encoding\"] for d in data]"
   ]
  },
  {
   "cell_type": "code",
   "execution_count": 7,
   "metadata": {
    "ExecuteTime": {
     "end_time": "2019-09-03T08:10:27.976862Z",
     "start_time": "2019-09-03T08:10:27.966052Z"
    }
   },
   "outputs": [
    {
     "data": {
      "text/plain": [
       "(79, 1, 128)"
      ]
     },
     "execution_count": 7,
     "metadata": {},
     "output_type": "execute_result"
    }
   ],
   "source": [
    "np.array(encodings).shape"
   ]
  },
  {
   "cell_type": "markdown",
   "metadata": {},
   "source": [
    "이 shape 로 DBSCAN 에 넣지 못함"
   ]
  },
  {
   "cell_type": "code",
   "execution_count": 8,
   "metadata": {
    "ExecuteTime": {
     "end_time": "2019-09-03T08:10:27.986482Z",
     "start_time": "2019-09-03T08:10:27.978740Z"
    }
   },
   "outputs": [
    {
     "data": {
      "text/plain": [
       "(79, 128)"
      ]
     },
     "execution_count": 8,
     "metadata": {},
     "output_type": "execute_result"
    }
   ],
   "source": [
    "## flatten encoding array (79,1,128) --> (79,128)\n",
    "\n",
    "encoding_new = []\n",
    "\n",
    "for e in encodings:\n",
    "    encoding_new.append(np.array(e).flatten())\n",
    "    \n",
    "np.array(encoding_new).shape"
   ]
  },
  {
   "cell_type": "code",
   "execution_count": 9,
   "metadata": {
    "ExecuteTime": {
     "end_time": "2019-09-03T08:10:28.103883Z",
     "start_time": "2019-09-03T08:10:27.988343Z"
    },
    "scrolled": true
   },
   "outputs": [
    {
     "name": "stdout",
     "output_type": "stream",
     "text": [
      "[INFO] clustering...\n",
      "[ 0  3  0  1  0  1  0  1  1  2  2  1 -1  2  0  3  1  1  4  0  3  1  1  3\n",
      "  4  0  2  4  4  1  1  2  2  3  1 -1  1  0  1  2  4  1  4  1  1  1  1  4\n",
      "  3  4  0  0 -1  4  1  0  2  4  1  4  0 -1  3  3  1  1  2  3  2 -1 -1  3\n",
      "  0  4 -1  2  4  1  2]\n",
      "[INFO] # unique faces: 5\n"
     ]
    }
   ],
   "source": [
    "# cluster the embeddings\n",
    "print(\"[INFO] clustering...\")\n",
    "clt = DBSCAN(metric = \"euclidean\", n_jobs = 4)\n",
    "clt.fit(encoding_new)\n",
    " \n",
    "# determine the total number of unique faces found in the dataset\n",
    "labelIDs = np.unique(clt.labels_)\n",
    "print(clt.labels_)\n",
    "numUniqueFaces = len(np.where(labelIDs > -1)[0])\n",
    "print(\"[INFO] # unique faces: {}\".format(numUniqueFaces))"
   ]
  },
  {
   "cell_type": "code",
   "execution_count": 10,
   "metadata": {
    "ExecuteTime": {
     "end_time": "2019-09-03T08:10:28.165170Z",
     "start_time": "2019-09-03T08:10:28.106064Z"
    }
   },
   "outputs": [],
   "source": [
    "for i,d in enumerate(data):\n",
    "    image = Image.open(data[i]['imagePath'])\n",
    "    if clt.labels_[i] == 4:\n",
    "        image.save('Sample Data Collection From MELD/4/'+str(i)+'.jpg')"
   ]
  },
  {
   "cell_type": "code",
   "execution_count": 11,
   "metadata": {
    "ExecuteTime": {
     "end_time": "2019-09-03T08:10:28.171020Z",
     "start_time": "2019-09-03T08:10:28.167110Z"
    }
   },
   "outputs": [
    {
     "data": {
      "text/plain": [
       "True"
      ]
     },
     "execution_count": 11,
     "metadata": {},
     "output_type": "execute_result"
    }
   ],
   "source": [
    "clt.labels_[0] == 0"
   ]
  },
  {
   "cell_type": "code",
   "execution_count": null,
   "metadata": {},
   "outputs": [],
   "source": []
  },
  {
   "cell_type": "code",
   "execution_count": null,
   "metadata": {},
   "outputs": [],
   "source": []
  },
  {
   "cell_type": "code",
   "execution_count": null,
   "metadata": {},
   "outputs": [],
   "source": []
  }
 ],
 "metadata": {
  "kernelspec": {
   "display_name": "Python 3",
   "language": "python",
   "name": "python3"
  },
  "language_info": {
   "codemirror_mode": {
    "name": "ipython",
    "version": 3
   },
   "file_extension": ".py",
   "mimetype": "text/x-python",
   "name": "python",
   "nbconvert_exporter": "python",
   "pygments_lexer": "ipython3",
   "version": "3.7.2"
  },
  "toc": {
   "base_numbering": 1,
   "nav_menu": {},
   "number_sections": true,
   "sideBar": true,
   "skip_h1_title": false,
   "title_cell": "Table of Contents",
   "title_sidebar": "Contents",
   "toc_cell": false,
   "toc_position": {},
   "toc_section_display": true,
   "toc_window_display": false
  }
 },
 "nbformat": 4,
 "nbformat_minor": 2
}
