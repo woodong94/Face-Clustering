{
 "cells": [
  {
   "cell_type": "code",
   "execution_count": 2,
   "metadata": {},
   "outputs": [],
   "source": [
    "import pandas as pd\n",
    "import numpy as np\n",
    "import os\n",
    "import re\n",
    "import multiprocessing\n",
    "import pickle\n",
    "import tqdm\n",
    "from itertools import chain"
   ]
  },
  {
   "cell_type": "markdown",
   "metadata": {},
   "source": [
    "# 학습 데이터 만들기\n",
    "\n",
    "사전에 뉴스 타이틀과 내용을 문장('.')단위로 분리하여 하나의 텍스트 파일로 만들어놓는다"
   ]
  },
  {
   "cell_type": "markdown",
   "metadata": {},
   "source": [
    "## 모델의 인풋은 문서 단위가 좋을까 문장 단위가 좋을까?\n",
    "\n",
    "https://datascience.stackexchange.com/questions/8753/what-is-a-better-input-for-word2vec\n",
    "\n",
    "-> output으로 뭘 원하는 지에 따라 다름.. 그때그때 다르다.\n",
    "\n",
    "여기서는 문장 단위로 나눠서 넣어보자"
   ]
  },
  {
   "cell_type": "code",
   "execution_count": 10,
   "metadata": {},
   "outputs": [],
   "source": [
    "# load pickle\n",
    "news_corpus = pd.read_pickle('embedding/data/52,320 news title and content _split_by_sent.txt')"
   ]
  },
  {
   "cell_type": "code",
   "execution_count": 11,
   "metadata": {},
   "outputs": [
    {
     "data": {
      "text/plain": [
       "[\"[美친시청률] '뉴스룸', 또 최고시청률 8.8%..이쯤되면 신드롬\\n\",\n",
       " '[OSEN=표재민 기자] JTBC 간판 뉴스프로그램 ‘뉴스룸’이 또 다시 자체최고시청률을 경신했다',\n",
       " '이쯤 되면 손석희와 ‘뉴스룸’ 신드롬이라고 해도 무리가 없을 듯 하다',\n",
       " '1일 시청률조사회사 닐슨코리아에 따르면 지난 달 31일 방송된 ‘뉴스룸’은 전국 기준 8.784%를 기록, 종합편성채널이라 기준은 다르지만 동시간대 방송된 SBS ‘8뉴스’(5.9%), MBC ‘뉴스데스크’(5.3%) 등을 제쳤다',\n",
       " '종합편성채널 집계 기준과 지상파 시청률 집계 기준이 달라 단순한 비교는 어렵지만 사실상 ‘뉴스룸’을 보는 시청자들이 압도적으로 많다는 것을 간접적으로 알 수 있는 성적표다']"
      ]
     },
     "execution_count": 11,
     "metadata": {},
     "output_type": "execute_result"
    }
   ],
   "source": [
    "news_corpus[:5]"
   ]
  },
  {
   "cell_type": "code",
   "execution_count": 7,
   "metadata": {},
   "outputs": [
    {
     "name": "stdout",
     "output_type": "stream",
     "text": [
      "524202\n"
     ]
    }
   ],
   "source": [
    "print(len(news_corpus))"
   ]
  },
  {
   "cell_type": "code",
   "execution_count": 18,
   "metadata": {},
   "outputs": [
    {
     "name": "stdout",
     "output_type": "stream",
     "text": [
      "[OSEN=표재민 기자] JTBC 간판 뉴스프로그램 ‘뉴스룸’이 또 다시 자체최고시청률을 경신했다\n",
      "['표', '재민', '기자', '간판', '뉴스', '프로그램', '뉴스룸', '자체', '최고', '시청', '경신']\n"
     ]
    }
   ],
   "source": [
    "from konlpy.tag import Mecab\n",
    "mecab = Mecab()\n",
    "\n",
    "def extract_keywords(mecab, sentence):\n",
    "    \"\"\"\n",
    "    품사 분석을 진행한 뒤 관계언(조사 등)이나 기호를 제거한다.\n",
    "    \"\"\"\n",
    "    tagged = mecab.pos(sentence)\n",
    "\n",
    "    result = []\n",
    "    \n",
    "    for word, tag in tagged:\n",
    "        if tag in ['NNG','NNP','VV','VA']: # 일반명사, 고유명사, 동사, 형용사 사용\n",
    "            result.append(word)\n",
    "    return result\n",
    "\n",
    "print(news_corpus[1])\n",
    "print(extract_keywords(mecab, news_corpus[1]))"
   ]
  },
  {
   "cell_type": "code",
   "execution_count": 90,
   "metadata": {},
   "outputs": [],
   "source": [
    "news_corpus_token= list(map(lambda x : extract_keywords(mecab, x), news_corpus))"
   ]
  },
  {
   "cell_type": "code",
   "execution_count": 92,
   "metadata": {},
   "outputs": [
    {
     "name": "stdout",
     "output_type": "stream",
     "text": [
      "[['美', '시청', '뉴스룸', '최고', '시청', '되', '신드롬'], ['표', '재민', '기자', '간판', '뉴스', '프로그램', '뉴스룸', '자체', '최고', '시청', '경신'], ['되', '손석희', '뉴스룸', '신드롬', '무리', '없', '하'], ['시청', '조사', '회사', '닐슨', '코리아', '따르', '달', '방송', '뉴스룸', '전국', '기준', '기록', '종합', '편성', '채널', '기준', '다르', '동시', '방송', '뉴스', '뉴스데스크'], ['종합', '편성', '채널', '집계', '기준', '지상파', '시청', '집계', '기준', '단순', '비교', '어렵', '사실', '뉴스룸', '보', '시청자', '압도', '많', '간접', '있', '성적표']]\n"
     ]
    }
   ],
   "source": [
    "print(news_corpus_token[:5])"
   ]
  },
  {
   "cell_type": "code",
   "execution_count": 93,
   "metadata": {},
   "outputs": [],
   "source": [
    "# # save as pickle\n",
    "\n",
    "# with open('../Data/embedding/data/52,320 news title and content _tokenized.txt', 'wb') as f:\n",
    "#     pickle.dump(news_corpus_token, f)"
   ]
  },
  {
   "cell_type": "markdown",
   "metadata": {},
   "source": [
    "# Word Embedding \n",
    "- word2vec\n",
    "- fastText\n",
    "\n",
    "**Reference**    \n",
    "- [Finding best fasttext hyperparameters](http://soner.in/fasttext-grid-search/)\n",
    "- [한국어 단어 임베딩을 위한 Word2vec 모델의 최적화](http://journal.dcs.or.kr/xml/19540/19540.pdf)\n",
    "- [FastText, Word representation using subword](https://lovit.github.io/nlp/representation/2018/10/22/fasttext_subword/)"
   ]
  },
  {
   "cell_type": "markdown",
   "metadata": {},
   "source": [
    "## word2vec"
   ]
  },
  {
   "cell_type": "code",
   "execution_count": 12,
   "metadata": {},
   "outputs": [],
   "source": [
    "import multiprocessing\n",
    "import os\n",
    "\n",
    "import gensim\n",
    "from gensim.models import word2vec\n",
    "from gensim.models import fasttext"
   ]
  },
  {
   "cell_type": "code",
   "execution_count": 13,
   "metadata": {},
   "outputs": [],
   "source": [
    "config = {\n",
    "    'window' : 5,\n",
    "    'min_count': 5,  # 등장 횟수가 5 이하인 단어는 무시\n",
    "    'size': 150,  # 150차원짜리 벡터스페이스에 embedding\n",
    "    'sg': 1,  # 0이면 CBOW, 1이면 skip-gram을 사용한다\n",
    "    'batch_words': 10000,  # 사전을 구축할때 한번에 읽을 단어 수\n",
    "    'iter': 10,  # 보통 딥러닝에서 말하는 epoch과 비슷한, 반복 횟수\n",
    "    'workers': multiprocessing.cpu_count(),\n",
    "}"
   ]
  },
  {
   "cell_type": "code",
   "execution_count": 99,
   "metadata": {},
   "outputs": [],
   "source": [
    "# 모델 학습\n",
    "w2v_model = word2vec.Word2Vec(news_corpus_token,**config) # Word2vec 모델 생성"
   ]
  },
  {
   "cell_type": "code",
   "execution_count": null,
   "metadata": {},
   "outputs": [],
   "source": [
    "# 모델 저장\n",
    "w2v_model.save('../Data/embedding/model/word2vec_model') # 모델을 'model' 파일에 저장"
   ]
  },
  {
   "cell_type": "code",
   "execution_count": null,
   "metadata": {},
   "outputs": [],
   "source": [
    "# 모델 불러오기\n",
    "w2v_model = word2vec.Word2Vec.load(os.path.join('embedding',\"w2v_0327.model\"))"
   ]
  },
  {
   "cell_type": "code",
   "execution_count": 16,
   "metadata": {
    "ExecuteTime": {
     "end_time": "2020-03-27T08:23:20.547237Z",
     "start_time": "2020-03-27T08:23:20.131349Z"
    }
   },
   "outputs": [
    {
     "data": {
      "text/plain": [
       "[('짱깨', 0.7469527721405029),\n",
       " ('짱개', 0.7402806878089905),\n",
       " ('중공', 0.7356770038604736),\n",
       " ('짱꼴라', 0.6442628502845764),\n",
       " ('러시아', 0.6201988458633423),\n",
       " ('중국인', 0.6164897084236145),\n",
       " ('중궈', 0.5840282440185547),\n",
       " ('시진핑', 0.5833264589309692),\n",
       " ('일본', 0.560553789138794),\n",
       " ('미국', 0.5600796937942505)]"
      ]
     },
     "execution_count": 16,
     "metadata": {},
     "output_type": "execute_result"
    }
   ],
   "source": [
    "w2v_model.wv.most_similar(positive = \"중국\")"
   ]
  },
  {
   "cell_type": "code",
   "execution_count": 17,
   "metadata": {
    "ExecuteTime": {
     "end_time": "2020-03-27T08:23:24.636304Z",
     "start_time": "2020-03-27T08:23:24.619371Z"
    }
   },
   "outputs": [
    {
     "data": {
      "text/plain": [
       "[('쪽바리', 0.637258768081665),\n",
       " ('일본도', 0.6027649641036987),\n",
       " ('롯게', 0.5917129516601562),\n",
       " ('좃선님', 0.5848301649093628),\n",
       " ('일본인', 0.5770894289016724),\n",
       " ('쪽발이', 0.5697472095489502),\n",
       " ('중국', 0.560553789138794),\n",
       " ('왜놈', 0.5594272613525391),\n",
       " ('넘듬', 0.5572184324264526),\n",
       " ('짓맓고', 0.5498552918434143)]"
      ]
     },
     "execution_count": 17,
     "metadata": {},
     "output_type": "execute_result"
    }
   ],
   "source": [
    "w2v_model.wv.most_similar(positive = \"일본\")"
   ]
  },
  {
   "cell_type": "code",
   "execution_count": 18,
   "metadata": {
    "ExecuteTime": {
     "end_time": "2020-03-27T08:23:27.532558Z",
     "start_time": "2020-03-27T08:23:27.515605Z"
    }
   },
   "outputs": [
    {
     "data": {
      "text/plain": [
       "[('대통', 0.7586009502410889),\n",
       " ('문재인', 0.6966331005096436),\n",
       " ('통령', 0.6032859086990356),\n",
       " ('영부인', 0.6013497710227966),\n",
       " ('총리', 0.5542508363723755),\n",
       " ('망녕났군', 0.5260519981384277),\n",
       " ('박성욱', 0.5248264670372009),\n",
       " ('김정숙', 0.5233049392700195),\n",
       " ('땔래야땔수없', 0.5201804041862488),\n",
       " ('부럽쥬', 0.5174517631530762)]"
      ]
     },
     "execution_count": 18,
     "metadata": {},
     "output_type": "execute_result"
    }
   ],
   "source": [
    "w2v_model.wv.most_similar(positive = \"대통령\")"
   ]
  },
  {
   "cell_type": "markdown",
   "metadata": {},
   "source": [
    "# fastText"
   ]
  },
  {
   "cell_type": "markdown",
   "metadata": {},
   "source": [
    "## Gensim 사용"
   ]
  },
  {
   "cell_type": "code",
   "execution_count": 15,
   "metadata": {},
   "outputs": [],
   "source": [
    "ft_config = {\n",
    "    'min_count': 1,  # 등장 횟수가 1 이하인 단어는 무시\n",
    "    'size': 300,  # 300차원짜리 벡터스페이스에 embedding\n",
    "    'sg': 1,  # 0이면 CBOW, 1이면 skip-gram을 사용한다\n",
    "    'batch_words': 10000,  # 사전을 구축할때 한번에 읽을 단어 수\n",
    "    'iter': 10,  # 보통 딥러닝에서 말하는 epoch과 비슷한, 반복 횟수\n",
    "    'workers': multiprocessing.cpu_count(),\n",
    "    'window': 5,\n",
    "    'seed': 25, #random number,\n",
    "    'word_ngrams':1 # uses enriches word vectors with subword(n-grams) information. If 0, this is equivalent to Word2Vec.\n",
    "}"
   ]
  },
  {
   "cell_type": "code",
   "execution_count": 15,
   "metadata": {
    "ExecuteTime": {
     "end_time": "2020-03-27T11:32:42.145809Z",
     "start_time": "2020-03-27T09:31:54.411203Z"
    }
   },
   "outputs": [],
   "source": [
    "# 모델 학습\n",
    "fastText_model = fasttext.FastText(sentences=tokens, **ft_config)  "
   ]
  },
  {
   "cell_type": "code",
   "execution_count": 20,
   "metadata": {
    "ExecuteTime": {
     "end_time": "2020-03-29T16:49:50.731138Z",
     "start_time": "2020-03-29T16:49:50.715181Z"
    }
   },
   "outputs": [
    {
     "data": {
      "text/plain": [
       "[('짱개', 0.7340356707572937),\n",
       " ('짱깨', 0.7271621227264404),\n",
       " ('중공', 0.7174848318099976),\n",
       " ('러시아', 0.6323301792144775),\n",
       " ('짱꼴라', 0.6283606290817261),\n",
       " ('중국인', 0.6042678356170654),\n",
       " ('중궈', 0.5787336826324463),\n",
       " ('시진핑', 0.575260579586029),\n",
       " ('일본', 0.5739111304283142),\n",
       " ('중국스립', 0.5734913349151611)]"
      ]
     },
     "execution_count": 20,
     "metadata": {},
     "output_type": "execute_result"
    }
   ],
   "source": [
    "# 연관성 테스트\n",
    "fastText_model.wv.most_similar(\"중국\")"
   ]
  },
  {
   "cell_type": "code",
   "execution_count": 16,
   "metadata": {
    "ExecuteTime": {
     "end_time": "2020-03-29T16:49:17.391202Z",
     "start_time": "2020-03-29T16:49:02.837789Z"
    }
   },
   "outputs": [],
   "source": [
    "# 모델 저장\n",
    "fastText_model.save('dataset/embedding/fastText_0330.model')"
   ]
  },
  {
   "cell_type": "code",
   "execution_count": 48,
   "metadata": {
    "ExecuteTime": {
     "end_time": "2020-03-29T17:07:03.468914Z",
     "start_time": "2020-03-29T17:06:30.766177Z"
    }
   },
   "outputs": [],
   "source": [
    "# 모델 불러오기\n",
    "fastText_model = fasttext.FastText.load('dataset/embedding/fastText_0330.model')"
   ]
  },
  {
   "cell_type": "markdown",
   "metadata": {},
   "source": [
    "## fastText API\n",
    "https://github.com/facebookresearch/fastText/tree/master/python"
   ]
  },
  {
   "cell_type": "code",
   "execution_count": 1,
   "metadata": {},
   "outputs": [],
   "source": [
    "import fasttext"
   ]
  },
  {
   "cell_type": "code",
   "execution_count": null,
   "metadata": {},
   "outputs": [],
   "source": [
    "# Skipgram model :\n",
    "fastText_model = fasttext.train_unsupervised(\n",
    "    input ='embedding/data/52,320 news title and content _split_by_sent.txt', \n",
    "    model='skipgram',\n",
    "    minCount = 5, \n",
    "    ws=3, \n",
    "    dim = 100)\n",
    "\n",
    "fastText_model.get_input_matrix().shape"
   ]
  },
  {
   "cell_type": "code",
   "execution_count": 113,
   "metadata": {},
   "outputs": [
    {
     "data": {
      "text/plain": [
       "[(0.880488932132721, '?문재인'),\n",
       " (0.8631366491317749, '(문재인'),\n",
       " (0.8565274477005005, '‘문재인'),\n",
       " (0.8242815732955933, '\"(문재인'),\n",
       " (0.8241071105003357, '“문재인'),\n",
       " (0.8146178126335144, '문재인이'),\n",
       " (0.799881637096405, '문재인에'),\n",
       " (0.7855387330055237, \"문재인'\"),\n",
       " (0.7854195237159729, \"'문재인\"),\n",
       " (0.7715805768966675, '문재인을')]"
      ]
     },
     "execution_count": 113,
     "metadata": {},
     "output_type": "execute_result"
    }
   ],
   "source": [
    "fastText_model.get_nearest_neighbors(\"문재인\")"
   ]
  },
  {
   "cell_type": "code",
   "execution_count": 114,
   "metadata": {},
   "outputs": [],
   "source": [
    "fastText_model.save_model(\"../Data/embedding/model/fastText_model.bin\")"
   ]
  },
  {
   "cell_type": "code",
   "execution_count": null,
   "metadata": {},
   "outputs": [],
   "source": [
    "fastText_model = fasttext.load_model(\"../Data/embedding/model/fastText_model.bin\")"
   ]
  },
  {
   "cell_type": "code",
   "execution_count": null,
   "metadata": {},
   "outputs": [],
   "source": []
  }
 ],
 "metadata": {
  "kernelspec": {
   "display_name": "Python 3",
   "language": "python",
   "name": "python3"
  },
  "language_info": {
   "codemirror_mode": {
    "name": "ipython",
    "version": 3
   },
   "file_extension": ".py",
   "mimetype": "text/x-python",
   "name": "python",
   "nbconvert_exporter": "python",
   "pygments_lexer": "ipython3",
   "version": "3.7.4"
  }
 },
 "nbformat": 4,
 "nbformat_minor": 4
}
